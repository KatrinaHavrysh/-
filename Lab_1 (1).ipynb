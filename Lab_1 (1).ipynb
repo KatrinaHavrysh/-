{
  "nbformat": 4,
  "nbformat_minor": 0,
  "metadata": {
    "colab": {
      "provenance": []
    },
    "kernelspec": {
      "name": "python3",
      "display_name": "Python 3"
    },
    "language_info": {
      "name": "python"
    }
  },
  "cells": [
    {
      "cell_type": "code",
      "execution_count": 1,
      "metadata": {
        "id": "jVBs6CHMb9mn"
      },
      "outputs": [],
      "source": [
        "import re"
      ]
    },
    {
      "cell_type": "markdown",
      "source": [
        "**Task 1**\n",
        "Write regexes that:\n",
        "*  remove all special (non-alphanumeric) characters from a string.\n",
        "*  match a word that contains a given character (e.g. ”y”).\n",
        "*  match a word that is n characters long.\n",
        "*  match a word that begins with ”a” OR ”b” and ends with ”s”\n",
        "\n",
        "\n"
      ],
      "metadata": {
        "id": "yV1v46R0dIHQ"
      }
    },
    {
      "cell_type": "code",
      "source": [
        "#remove all special (non-alphanumeric) characters from a string.\n",
        "\n",
        "text = \"Lorem ipsum dolor sit amet, consectetur adipiscing elit #$%^))(*^)\"\n",
        "removing = re.sub(r'[^a-zA-Z0-9]+', '', text)\n",
        "removing"
      ],
      "metadata": {
        "colab": {
          "base_uri": "https://localhost:8080/",
          "height": 36
        },
        "id": "RpW0GitsdLUk",
        "outputId": "847d31de-5369-451d-aafc-efe6ffc7ac82"
      },
      "execution_count": 17,
      "outputs": [
        {
          "output_type": "execute_result",
          "data": {
            "text/plain": [
              "'Loremipsumdolorsitametconsecteturadipiscingelit'"
            ],
            "application/vnd.google.colaboratory.intrinsic+json": {
              "type": "string"
            }
          },
          "metadata": {},
          "execution_count": 17
        }
      ]
    },
    {
      "cell_type": "code",
      "source": [
        "#match a word that contains a given character (e.g. ”y”)\n",
        "\n",
        "text = \"Duis aute irure dolor in reprehenderit in voluptate velit esse cillum\\\n",
        "\\dolore eu fugiat nulla pariatur\"\n",
        "matches = re.findall(r'\\w*l\\w*', text)\n",
        "matches"
      ],
      "metadata": {
        "colab": {
          "base_uri": "https://localhost:8080/"
        },
        "id": "r24nOBW6dwxK",
        "outputId": "bb45d814-8f52-4eaf-b73e-c348f64104f9"
      },
      "execution_count": 16,
      "outputs": [
        {
          "output_type": "execute_result",
          "data": {
            "text/plain": [
              "['dolor', 'voluptate', 'velit', 'cillum', 'dolore', 'nulla']"
            ]
          },
          "metadata": {},
          "execution_count": 16
        }
      ]
    },
    {
      "cell_type": "markdown",
      "source": [
        "# **Task 2**\n",
        "Write a program that will\n",
        "* collect all monetary amounts from a given text\n",
        "\n",
        "Example: ” first amount is $123.45, second amount is $400” −> [123.45, 400].\n",
        "* convert these to float numbers\n",
        "* and sum them\n"
      ],
      "metadata": {
        "id": "OFknT3EydMJQ"
      }
    },
    {
      "cell_type": "code",
      "source": [
        "text = \"first amount is $123.45, second amount is $400\"\n",
        "sum = sum(map(float, re.findall(r'\\b\\d+(?:\\.\\d+)?\\b', text)))\n",
        "sum\n"
      ],
      "metadata": {
        "colab": {
          "base_uri": "https://localhost:8080/"
        },
        "id": "sqgo1z7udPfw",
        "outputId": "451c1557-a553-47a1-880b-c528f6a69cb0"
      },
      "execution_count": 15,
      "outputs": [
        {
          "output_type": "execute_result",
          "data": {
            "text/plain": [
              "523.45"
            ]
          },
          "metadata": {},
          "execution_count": 15
        }
      ]
    },
    {
      "cell_type": "markdown",
      "source": [
        "# **Task 3**\n",
        "Write a program that will cleanup Python source code by:\n",
        "* removing source code comments from Python code.\n",
        "* removing blank lines (hint: use \\r, \\n special characters)"
      ],
      "metadata": {
        "id": "qXzs2iWkdQNU"
      }
    },
    {
      "cell_type": "code",
      "source": [
        "code = \"\"\"\n",
        "# jvfhdfgchhjggfhg\n",
        "def add(a, b):\n",
        "  return a + b\"\"\"\n",
        "code = re.sub(r'(?<!\\\\)#.*?(?=\\r|\\n|$)|^\\s*?(\\r?\\n)|(?<=def)\\s+\\n|:\\s+\\n?', '', code, flags=re.MULTILINE)\n",
        "code"
      ],
      "metadata": {
        "colab": {
          "base_uri": "https://localhost:8080/",
          "height": 36
        },
        "id": "Iojo6_4SdUrO",
        "outputId": "24607ef6-8e80-43a8-d084-d1d73df33a2b"
      },
      "execution_count": 13,
      "outputs": [
        {
          "output_type": "execute_result",
          "data": {
            "text/plain": [
              "'\\ndef add(a, b)return a + b'"
            ],
            "application/vnd.google.colaboratory.intrinsic+json": {
              "type": "string"
            }
          },
          "metadata": {},
          "execution_count": 13
        }
      ]
    },
    {
      "cell_type": "markdown",
      "source": [
        "Я дуже сумніваюся що це підійде й до іншого коду, але це максимум що змогла зробити в цьому завданні"
      ],
      "metadata": {
        "id": "xaxfe1-XQA3b"
      }
    },
    {
      "cell_type": "markdown",
      "source": [
        "# **Task 4**\n",
        "Write a program that will convert dates in ”yyyy-mm-dd” format\n",
        "to ”dd-mm-yyyy” format. Example: 2024−02−11 −> 11−02−2024."
      ],
      "metadata": {
        "id": "YBOhegTKdVMf"
      }
    },
    {
      "cell_type": "code",
      "source": [
        "text = \"2024-02-24\"\n",
        "text2 = re.sub(r'(\\d{4})-(\\d{2})-(\\d{2})', r'\\3-\\2-\\1', text)\n",
        "text2"
      ],
      "metadata": {
        "colab": {
          "base_uri": "https://localhost:8080/",
          "height": 36
        },
        "id": "8VdoD0HddWZs",
        "outputId": "8104ab65-1ec2-426b-a44c-e663716a54fa"
      },
      "execution_count": 5,
      "outputs": [
        {
          "output_type": "execute_result",
          "data": {
            "text/plain": [
              "'24-02-2024'"
            ],
            "application/vnd.google.colaboratory.intrinsic+json": {
              "type": "string"
            }
          },
          "metadata": {},
          "execution_count": 5
        }
      ]
    }
  ]
}
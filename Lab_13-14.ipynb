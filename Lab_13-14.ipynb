{
 "cells": [
  {
   "cell_type": "markdown",
   "id": "7cab8301-1c41-4dc0-8565-c4065590f452",
   "metadata": {},
   "source": [
    "Install sympy library (if required)\n",
    "\n",
    "`pip install sympy`\n",
    "\n",
    "SymPy is Python's library for symbolic mathematics."
   ]
  },
  {
   "cell_type": "code",
   "execution_count": 8,
   "id": "dc69e98b-6449-4178-818c-37463300b77f",
   "metadata": {},
   "outputs": [],
   "source": [
    "import sympy as s"
   ]
  },
  {
   "cell_type": "markdown",
   "id": "0dba1acb-30da-4132-93bc-f570d10c82c3",
   "metadata": {},
   "source": [
    "We can create an arbitrary expression like so:"
   ]
  },
  {
   "cell_type": "code",
   "execution_count": 9,
   "id": "fe667d9c-bac5-4920-9a98-f7e6a49f5962",
   "metadata": {},
   "outputs": [],
   "source": [
    "x = s.Symbol(\"x\")\n",
    "y = s.Symbol(\"y\")\n",
    "expr = x*y + 3"
   ]
  },
  {
   "cell_type": "markdown",
   "id": "89401a7d-d202-4478-9a66-5fab1a5cf247",
   "metadata": {},
   "source": [
    "For now we are interested in SymPy's expression trees (https://docs.sympy.org/latest/tutorials/intro-tutorial/manipulation.html) - these allow us to draw a computation graph for an arbitrary expression.\n",
    "\n",
    "SymPy's `srepr` function can print us such a graph:"
   ]
  },
  {
   "cell_type": "code",
   "execution_count": 10,
   "id": "73a6c9cf-2bf8-4025-b526-f65655a976ab",
   "metadata": {},
   "outputs": [
    {
     "data": {
      "text/plain": [
       "\"Add(Mul(Symbol('x'), Symbol('y')), Integer(3))\""
      ]
     },
     "execution_count": 10,
     "metadata": {},
     "output_type": "execute_result"
    }
   ],
   "source": [
    "s.srepr(expr)"
   ]
  },
  {
   "cell_type": "markdown",
   "id": "c54023f1-d526-44d1-9a8b-c685cadd0770",
   "metadata": {},
   "source": [
    "Note that we basically have a deeply-nested tree structure here.\n",
    "\n",
    "We can recurse through this tree: https://docs.sympy.org/latest/tutorials/intro-tutorial/manipulation.html#recursing-through-an-expression-tree.\n",
    "\n",
    "**Exercise**: use an example in the \"Walking the Tree\" section from above link to implement Python code that will:\n",
    "1. Recurse through an arbitrary expression tree and collect (parent, child) pairs (`(func, args[i])` pairs).\n",
    "2. Print out a list of nodes in Tikz format, for example:\n",
    "   ```\n",
    "     a -> b;\n",
    "     b -> {c, d, e};\n",
    "     a -> f;\n",
    "   ```\n",
    "   where instead of `a`, `b`, and so on, there will be math expressions.\n",
    "3. Verify that the graph is displayed by using the template here: https://www.overleaf.com/project/6613f56ba03909e4a99556a8"
   ]
  },
  {
   "cell_type": "code",
   "execution_count": 12,
   "id": "fab08704",
   "metadata": {},
   "outputs": [
    {
     "name": "stdout",
     "output_type": "stream",
     "text": [
      "x + y*z -> x;\n",
      "x + y*z -> y*z;\n",
      "y*z -> y;\n",
      "y*z -> z;\n"
     ]
    }
   ],
   "source": [
    "import sympy as sp\n",
    "\n",
    "def walk_tree(expr):\n",
    "    \"\"\" Recursively walk through the expression tree and collect (parent, child) pairs. \"\"\"\n",
    "    if expr.args:\n",
    "        for arg in expr.args:\n",
    "            print(f\"{expr} -> {arg};\")\n",
    "            walk_tree(arg)\n",
    "\n",
    "x, y, z = sp.symbols('x y z')\n",
    "expr = sp.sympify('x + (y * z)')\n",
    "\n",
    "walk_tree(expr)\n"
   ]
  },
  {
   "cell_type": "markdown",
   "id": "8fa57ddb",
   "metadata": {},
   "source": [
    "Код для LaTeX"
   ]
  },
  {
   "cell_type": "markdown",
   "id": "86afe28b",
   "metadata": {},
   "source": [
    "\\documentclass{standalone}\n",
    "\\usepackage{tikz}\n",
    "\n",
    "\\begin{document}\n",
    "\\begin{tikzpicture}[\n",
    "  node distance={15mm}, \n",
    "  main/.style = {draw, circle}]\n",
    "\n",
    "\\node[main] (1) {x + y*z};\n",
    "\\node[main] (2) [below left of=1] {x};\n",
    "\\node[main] (3) [below right of=1] {y*z};\n",
    "\\node[main] (4) [below left of=3] {y};\n",
    "\\node[main] (5) [below right of=3] {z};\n",
    "\n",
    "\\draw[->] (1) -- (2);\n",
    "\\draw[->] (1) -- (3);\n",
    "\\draw[->] (3) -- (4);\n",
    "\\draw[->] (3) -- (5);\n",
    "\n",
    "\\end{tikzpicture}\n",
    "\\end{document}\n"
   ]
  },
  {
   "cell_type": "markdown",
   "id": "e975408f-39f4-4c33-8deb-5b44bbbfe3b5",
   "metadata": {},
   "source": [
    "### Notes on Tikz tree drawing:\n",
    "1. Please switch LaTeX engine to LuaTeX: https://www.overleaf.com/learn/how-to/Changing_compiler\n",
    "2. Note that parent->child relationships are created like so:\n",
    "   ```\n",
    "   parent -> child;\n",
    "   ```\n",
    "   or\n",
    "   ```\n",
    "   parent -> {child1, child2, ...}\n",
    "   ```\n",
    "   for multiple children\n",
    "3. Same nodes can be repeated on multiple lines - Tikz's algorithm will take care of that.\n",
    "4. Custom labels can be set via `b/\"Custom label\"` syntax. This custom label can be set only once when the node is first mentioned.\n",
    "5. More info here: https://tikz.dev/gd-trees"
   ]
  },
  {
   "cell_type": "code",
   "execution_count": 13,
   "id": "ac6a0fb4-679d-44a7-818e-bd88bf69a96f",
   "metadata": {},
   "outputs": [
    {
     "name": "stdout",
     "output_type": "stream",
     "text": [
      "\"x + y*z\" -> \"x\";\n",
      "\"x + y*z\" -> \"y*z\";\n",
      "\"y*z\" -> \"y\";\n",
      "\"y*z\" -> \"z\";\n",
      "\"x\" [label=\"Node 0\"];\n",
      "\"y*z\" [label=\"Node 1\"];\n",
      "\"y\" [label=\"Node 2\"];\n",
      "\"x + y*z\" [label=\"Node 3\"];\n",
      "\"z\" [label=\"Node 4\"];\n"
     ]
    }
   ],
   "source": [
    "def walk_tree(expr):\n",
    "    \"\"\"Recursively walk through the expression tree and collect (parent, child) pairs.\"\"\"\n",
    "    nodes = set()\n",
    "    edges = []\n",
    "    \n",
    "    def recurse(expr, parent=None):\n",
    "        nodes.add(expr)\n",
    "        if parent is not None:\n",
    "            edges.append((parent, expr))\n",
    "        for arg in expr.args:\n",
    "            recurse(arg, expr)\n",
    "    \n",
    "    recurse(expr)\n",
    "    \n",
    "    return nodes, edges\n",
    "\n",
    "x, y, z = sp.symbols('x y z')\n",
    "expr = sp.sympify('x + y * z')\n",
    "\n",
    "nodes, edges = walk_tree(expr)\n",
    "\n",
    "for parent, child in edges:\n",
    "    print(f'\"{parent}\" -> \"{child}\";')\n",
    "\n",
    "for i, node in enumerate(nodes):\n",
    "    print(f'\"{node}\" [label=\"Node {i}\"];')\n"
   ]
  },
  {
   "cell_type": "markdown",
   "id": "9dac29db",
   "metadata": {},
   "source": [
    "\\documentclass{standalone}\n",
    "\\usepackage{tikz}\n",
    "\\usetikzlibrary{arrows.meta, positioning}\n",
    "\n",
    "\\begin{document}\n",
    "\\begin{tikzpicture}[\n",
    "    >={Stealth[round]},\n",
    "    every node/.style={draw, minimum size=1cm},\n",
    "    level 1/.style={sibling distance=5cm, level distance=1.5cm},\n",
    "    level 2/.style={sibling distance=2.5cm, level distance=1.5cm}]\n",
    "    \n",
    "    \\node {x + y*z}\n",
    "        child { node {x} }\n",
    "        child { node {y*z}\n",
    "            child { node {y} }\n",
    "            child { node {z} }\n",
    "        };\n",
    "\\end{tikzpicture}\n",
    "\\end{document}\n"
   ]
  }
 ],
 "metadata": {
  "kernelspec": {
   "display_name": "Python 3 (ipykernel)",
   "language": "python",
   "name": "python3"
  },
  "language_info": {
   "codemirror_mode": {
    "name": "ipython",
    "version": 3
   },
   "file_extension": ".py",
   "mimetype": "text/x-python",
   "name": "python",
   "nbconvert_exporter": "python",
   "pygments_lexer": "ipython3",
   "version": "3.11.9"
  }
 },
 "nbformat": 4,
 "nbformat_minor": 5
}

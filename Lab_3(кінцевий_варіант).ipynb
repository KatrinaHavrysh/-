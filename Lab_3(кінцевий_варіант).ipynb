{
  "nbformat": 4,
  "nbformat_minor": 0,
  "metadata": {
    "colab": {
      "provenance": []
    },
    "kernelspec": {
      "name": "python3",
      "display_name": "Python 3"
    },
    "language_info": {
      "name": "python"
    }
  },
  "cells": [
    {
      "cell_type": "code",
      "execution_count": 1,
      "metadata": {
        "id": "AYYTYHFTDeEC"
      },
      "outputs": [],
      "source": [
        "import requests\n",
        "import re\n",
        "from enum import Enum\n"
      ]
    },
    {
      "cell_type": "markdown",
      "source": [
        "# **Лабораторна №3**"
      ],
      "metadata": {
        "id": "HiSrj-5g1WaE"
      }
    },
    {
      "cell_type": "code",
      "source": [
        "class Genre(Enum):\n",
        "    action = \"Action\"\n",
        "    comedy = \"Comedy\"\n",
        "    drama = \"Drama\"\n",
        "    romance = \"Romance\"\n",
        "    horror = \"Horror\"\n",
        "    documentary = \"Documentary\"\n",
        "    other = \"Other\"\n",
        "\n",
        "class Director:\n",
        "    def __init__(self, name):\n",
        "        self.name = name\n",
        "\n",
        "class Movie:\n",
        "    def __init__(self, title, release_date, director, genres, running_time):\n",
        "        self.title = title\n",
        "        self.release_date = release_date\n",
        "        self.director = director\n",
        "        self.genres = genres\n",
        "        self.running_time = running_time\n",
        "\n",
        "    def __str__(self):\n",
        "        return f\"Title: {self.title}\\nRelease Date: {self.release_date}\\nDirector: {self.director.name}\\nGenres: {', '.join(genre.value for genre in self.genres)}\\nRunning time: {self.running_time} minutes\"\n",
        "\n",
        "def movie_info(url):\n",
        "    page = requests.get(url)\n",
        "    title = re.findall(r\"<title>(.*?) - Wikipedia</title>\", page.text)[0]\n",
        "    release_date = re.findall(r\"Release date?.*plainlist.*>\\n.*(\\d{4})\", page.text)[0]\n",
        "    director_name = re.findall(r\"Directed by.*?<a.*?>(.*?)</a>\", page.text)[0]\n",
        "    director = Director(director_name)\n",
        "    text = page.text\n",
        "    genre = re.search(r'American biographical (.*?) film', text, re.IGNORECASE).group(1)\n",
        "    genres = [Genre.drama if genre.lower() == 'drama' else Genre.other]\n",
        "    running_time = re.findall(r'<td class=\"infobox-data\">(\\d+)', page.text)[0]\n",
        "    return Movie(title, release_date, director, genres, running_time)\n",
        "\n",
        "if __name__ == \"__main__\":\n",
        "    movie_url = \"https://en.wikipedia.org/wiki/Priscilla_(film)\"\n",
        "    movie = movie_info(movie_url)\n",
        "    print(movie)\n"
      ],
      "metadata": {
        "colab": {
          "base_uri": "https://localhost:8080/"
        },
        "id": "-C08Cund87xA",
        "outputId": "2f75cf2c-1c65-4efb-9847-26e431bd8a9c"
      },
      "execution_count": 2,
      "outputs": [
        {
          "output_type": "stream",
          "name": "stdout",
          "text": [
            "Title: Priscilla (film)\n",
            "Release Date: 2023\n",
            "Director: Sofia Coppola\n",
            "Genres: Drama\n",
            "Running time: 114 minutes\n"
          ]
        }
      ]
    }
  ]
}
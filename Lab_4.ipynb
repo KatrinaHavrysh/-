{
  "nbformat": 4,
  "nbformat_minor": 0,
  "metadata": {
    "colab": {
      "provenance": []
    },
    "kernelspec": {
      "name": "python3",
      "display_name": "Python 3"
    },
    "language_info": {
      "name": "python"
    }
  },
  "cells": [
    {
      "cell_type": "code",
      "execution_count": 1,
      "metadata": {
        "id": "rHNrH1nsdga9"
      },
      "outputs": [],
      "source": [
        "import sqlite3\n"
      ]
    },
    {
      "cell_type": "code",
      "source": [
        "con = sqlite3.connect(\"Films.db\")\n",
        "cur = con.cursor()"
      ],
      "metadata": {
        "id": "62tRpyaBdqAE"
      },
      "execution_count": 2,
      "outputs": []
    },
    {
      "cell_type": "code",
      "source": [
        "cur.execute(\"\"\"CREATE TABLE If Not Exists Films (title text,\n",
        "                                    year integer,\n",
        "                                    director text,\n",
        "                                    genre text,\n",
        "                                    rating real)\"\"\")"
      ],
      "metadata": {
        "colab": {
          "base_uri": "https://localhost:8080/"
        },
        "id": "52wxPj45d8Uw",
        "outputId": "28bfad80-9322-4476-f4f9-3687c5607b83"
      },
      "execution_count": 3,
      "outputs": [
        {
          "output_type": "execute_result",
          "data": {
            "text/plain": [
              "<sqlite3.Cursor at 0x78175d69efc0>"
            ]
          },
          "metadata": {},
          "execution_count": 3
        }
      ]
    },
    {
      "cell_type": "code",
      "source": [
        "class Film:\n",
        "    def __init__(self, title, year, director, genre, rating):\n",
        "        self.title = title\n",
        "        self.year = year\n",
        "        self.director = director\n",
        "        self.genre = genre\n",
        "        self.rating = rating\n",
        "\n",
        "    @classmethod\n",
        "    def selecting(self, name):\n",
        "        cur.execute(\"Select * from Films where title=?\", (name,))\n",
        "        res = cur.fetchone()\n",
        "        return Film(res[0],res[1],res[2], res[3],res[4])\n",
        "\n",
        "    def inserting(self):\n",
        "        cur.execute('INSERT INTO Films(title, year, director,genre, rating) Values(?,?,?,?,?)', (self.title, self.year, self.director, self.genre, self.rating))\n",
        "        con.commit()\n",
        "\n",
        "    def updating_rating(title, rating):\n",
        "        cur.execute('UPDATE Films SET rating=? WHERE title=?', (rating,title))\n",
        "        con.commit()\n",
        "\n",
        "    def deleting(title):\n",
        "        cur.execute('DELETE FROM Films WHERE title=?', (title,))\n",
        "        con.commit()"
      ],
      "metadata": {
        "id": "_AP7v_ZAeHiO"
      },
      "execution_count": 6,
      "outputs": []
    },
    {
      "cell_type": "code",
      "source": [
        "film_1 = Film('DUNE: PART TWO', 2024, 'Denis Villeneuve', 'epic science fiction film', 9.3)\n",
        "film_2 = Film('Wonka', 2023, 'Paul King', 'musical fantasy film ', 7.1)\n",
        "film_3 = Film('Mr. & Mrs. Smith', 2005, 'Doug Liman', ' action comedy film', 8.3)"
      ],
      "metadata": {
        "id": "nuFN4nOxeUR4"
      },
      "execution_count": 7,
      "outputs": []
    },
    {
      "cell_type": "code",
      "source": [
        "film_1.inserting()"
      ],
      "metadata": {
        "id": "-eUCrT33gTLp"
      },
      "execution_count": 8,
      "outputs": []
    },
    {
      "cell_type": "code",
      "source": [
        "Film.selecting('DUNE: PART TWO').__dict__"
      ],
      "metadata": {
        "colab": {
          "base_uri": "https://localhost:8080/"
        },
        "id": "M9UmxRnCga-1",
        "outputId": "77a111f7-147d-4cc6-d879-33778d5c1cef"
      },
      "execution_count": 9,
      "outputs": [
        {
          "output_type": "execute_result",
          "data": {
            "text/plain": [
              "{'title': 'DUNE: PART TWO',\n",
              " 'year': 2024,\n",
              " 'director': 'Denis Villeneuve',\n",
              " 'genre': 'epic science fiction film',\n",
              " 'rating': 9.3}"
            ]
          },
          "metadata": {},
          "execution_count": 9
        }
      ]
    },
    {
      "cell_type": "code",
      "source": [
        "Film.updating_rating('DUNE: PART TWO', 9.9)"
      ],
      "metadata": {
        "id": "-IpCC6g-hROu"
      },
      "execution_count": 12,
      "outputs": []
    },
    {
      "cell_type": "code",
      "source": [
        "Film.selecting('DUNE: PART TWO').__dict__"
      ],
      "metadata": {
        "colab": {
          "base_uri": "https://localhost:8080/"
        },
        "id": "L0zk2W77hbne",
        "outputId": "4a46e147-bfb6-445a-a125-b37175b692b4"
      },
      "execution_count": 13,
      "outputs": [
        {
          "output_type": "execute_result",
          "data": {
            "text/plain": [
              "{'title': 'DUNE: PART TWO',\n",
              " 'year': 2024,\n",
              " 'director': 'Denis Villeneuve',\n",
              " 'genre': 'epic science fiction film',\n",
              " 'rating': 9.9}"
            ]
          },
          "metadata": {},
          "execution_count": 13
        }
      ]
    },
    {
      "cell_type": "code",
      "source": [
        "Film.deleting('DUNE: PART TWO')"
      ],
      "metadata": {
        "id": "pp3Kgh2whsvI"
      },
      "execution_count": 14,
      "outputs": []
    },
    {
      "cell_type": "code",
      "source": [
        "res = cur.execute(\"select * from Films\")\n",
        "res.fetchall()"
      ],
      "metadata": {
        "colab": {
          "base_uri": "https://localhost:8080/"
        },
        "id": "Q40PkgsJh1Gk",
        "outputId": "c1094614-bd43-4313-fa5b-94f6dbbc0ad7"
      },
      "execution_count": 15,
      "outputs": [
        {
          "output_type": "execute_result",
          "data": {
            "text/plain": [
              "[]"
            ]
          },
          "metadata": {},
          "execution_count": 15
        }
      ]
    },
    {
      "cell_type": "code",
      "source": [
        "film_2.inserting()"
      ],
      "metadata": {
        "id": "CCItQXD_h5mN"
      },
      "execution_count": 16,
      "outputs": []
    },
    {
      "cell_type": "code",
      "source": [
        "res = cur.execute(\"select * from Films\")\n",
        "res.fetchall()"
      ],
      "metadata": {
        "colab": {
          "base_uri": "https://localhost:8080/"
        },
        "id": "aZIqqiXLh_B4",
        "outputId": "5eebed05-9181-4d91-d428-3adc6831dfe4"
      },
      "execution_count": 17,
      "outputs": [
        {
          "output_type": "execute_result",
          "data": {
            "text/plain": [
              "[('Wonka', 2023, 'Paul King', 'musical fantasy film ', 7.1)]"
            ]
          },
          "metadata": {},
          "execution_count": 17
        }
      ]
    }
  ]
}